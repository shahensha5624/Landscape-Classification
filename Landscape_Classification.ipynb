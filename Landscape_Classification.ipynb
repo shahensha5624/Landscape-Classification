{
  "cells": [
    {
      "cell_type": "markdown",
      "metadata": {
        "id": "view-in-github",
        "colab_type": "text"
      },
      "source": [
        "<a href=\"https://colab.research.google.com/github/shahensha5624/Landscape-Classification/blob/main/Landscape_Classification.ipynb\" target=\"_parent\"><img src=\"https://colab.research.google.com/assets/colab-badge.svg\" alt=\"Open In Colab\"/></a>"
      ]
    },
    {
      "cell_type": "markdown",
      "metadata": {
        "id": "ONsfbrCEcZqw"
      },
      "source": [
        "#Importing libraries"
      ]
    },
    {
      "cell_type": "code",
      "execution_count": null,
      "metadata": {
        "id": "8RHSHgB7QbVw"
      },
      "outputs": [],
      "source": [
        "\n",
        "import numpy as np # linear algebra\n",
        "import pandas as pd # data processing, CSV file I/O (e.g. pd.read_csv)\n",
        "import torch\n",
        "import torch.nn as nn\n",
        "import torch.optim as optim\n",
        "from torchvision import models, transforms, datasets\n",
        "from torch.utils.data import DataLoader\n",
        "from torchmetrics import Accuracy # Now this import should work\n",
        "import matplotlib.pyplot as plt\n",
        "import time"
      ]
    },
    {
      "cell_type": "code",
      "execution_count": null,
      "metadata": {
        "collapsed": true,
        "id": "RL06adTR-WKl"
      },
      "outputs": [],
      "source": [
        "dataset_path = '/content/drive/MyDrive/Landscapes_1/Aerial_Landscapes'"
      ]
    },
    {
      "cell_type": "code",
      "execution_count": null,
      "metadata": {
        "id": "D0YVKWPs6-gh"
      },
      "outputs": [],
      "source": [
        "transform = transforms.Compose([\n",
        "    transforms.Resize((224, 224)),\n",
        "    transforms.RandomHorizontalFlip(),\n",
        "    transforms.RandomRotation(10),\n",
        "    transforms.ToTensor(),\n",
        "    transforms.Normalize(mean=[0.485, 0.456, 0.406],\n",
        "                         std=[0.229, 0.224, 0.225])\n",
        "])"
      ]
    },
    {
      "cell_type": "code",
      "execution_count": null,
      "metadata": {
        "id": "NU01WVBW7Dmo"
      },
      "outputs": [],
      "source": [
        "full_dataset = datasets.ImageFolder(dataset_path, transform=transform)"
      ]
    },
    {
      "cell_type": "code",
      "execution_count": null,
      "metadata": {
        "id": "GQgIFwq7-nba"
      },
      "outputs": [],
      "source": [
        "train_size = int(0.8 * len(full_dataset))\n",
        "val_size = len(full_dataset) - train_size\n",
        "train_dataset, val_dataset = torch.utils.data.random_split(full_dataset, [train_size, val_size])"
      ]
    },
    {
      "cell_type": "code",
      "execution_count": null,
      "metadata": {
        "colab": {
          "base_uri": "https://localhost:8080/"
        },
        "collapsed": true,
        "id": "fz65yU7p_QRz",
        "outputId": "73622b29-47ce-42cf-ecbc-49df94d7c415"
      },
      "outputs": [
        {
          "name": "stderr",
          "output_type": "stream",
          "text": [
            "/usr/local/lib/python3.11/dist-packages/torch/utils/data/dataloader.py:624: UserWarning: This DataLoader will create 4 worker processes in total. Our suggested max number of worker in current system is 2, which is smaller than what this DataLoader is going to create. Please be aware that excessive worker creation might get DataLoader running slow or even freeze, lower the worker number to avoid potential slowness/freeze if necessary.\n",
            "  warnings.warn(\n"
          ]
        }
      ],
      "source": [
        "train_loader = DataLoader(train_dataset, batch_size=32, shuffle=True, num_workers=4)\n",
        "val_loader = DataLoader(val_dataset, batch_size=32, shuffle=False, num_workers=4)"
      ]
    },
    {
      "cell_type": "code",
      "execution_count": null,
      "metadata": {
        "id": "-f0UznEn_z9K"
      },
      "outputs": [],
      "source": [
        "class LandscapeClassifier(nn.Module):\n",
        "    def __init__(self, num_classes=15):\n",
        "        super(LandscapeClassifier, self).__init__()\n",
        "        self.model = models.resnet50(pretrained=True)\n",
        "\n",
        "        num_features = self.model.fc.in_features\n",
        "        self.model.fc = nn.Sequential(\n",
        "            nn.Linear(num_features, 512),\n",
        "            nn.ReLU(),\n",
        "            nn.Dropout(0.5),\n",
        "            nn.Linear(512, num_classes)\n",
        "        )\n",
        "\n",
        "    def forward(self, x):\n",
        "        return self.model(x)"
      ]
    },
    {
      "cell_type": "code",
      "execution_count": null,
      "metadata": {
        "colab": {
          "base_uri": "https://localhost:8080/"
        },
        "id": "Gj-d5YAJ_1hc",
        "outputId": "e4db4879-ff19-4e1b-e5bf-f33dcb04238f"
      },
      "outputs": [
        {
          "name": "stderr",
          "output_type": "stream",
          "text": [
            "/usr/local/lib/python3.11/dist-packages/torchvision/models/_utils.py:208: UserWarning: The parameter 'pretrained' is deprecated since 0.13 and may be removed in the future, please use 'weights' instead.\n",
            "  warnings.warn(\n",
            "/usr/local/lib/python3.11/dist-packages/torchvision/models/_utils.py:223: UserWarning: Arguments other than a weight enum or `None` for 'weights' are deprecated since 0.13 and may be removed in the future. The current behavior is equivalent to passing `weights=ResNet50_Weights.IMAGENET1K_V1`. You can also use `weights=ResNet50_Weights.DEFAULT` to get the most up-to-date weights.\n",
            "  warnings.warn(msg)\n",
            "Downloading: \"https://download.pytorch.org/models/resnet50-0676ba61.pth\" to /root/.cache/torch/hub/checkpoints/resnet50-0676ba61.pth\n",
            "100%|██████████| 97.8M/97.8M [00:00<00:00, 173MB/s]\n"
          ]
        }
      ],
      "source": [
        "num_classes = len(full_dataset.classes)\n",
        "model = LandscapeClassifier(num_classes)"
      ]
    },
    {
      "cell_type": "code",
      "execution_count": null,
      "metadata": {
        "colab": {
          "background_save": true
        },
        "collapsed": true,
        "id": "NS2BjmEP_4KG"
      },
      "outputs": [],
      "source": [
        "criterion = nn.CrossEntropyLoss()\n",
        "optimizer = optim.Adam(model.parameters(), lr=0.001)\n",
        "scheduler = torch.optim.lr_scheduler.StepLR(optimizer, step_size=7, gamma=0.1)"
      ]
    },
    {
      "cell_type": "code",
      "execution_count": null,
      "metadata": {
        "id": "rnE3oshO7nkb"
      },
      "outputs": [],
      "source": [
        "device = torch.device('cuda' if torch.cuda.is_available() else 'cpu')\n",
        "model.to(device)\n",
        "num_epochs = 20\n"
      ]
    },
    {
      "cell_type": "code",
      "execution_count": null,
      "metadata": {
        "id": "I_3HL68j7xCL",
        "colab": {
          "base_uri": "https://localhost:8080/"
        },
        "outputId": "be36a13a-6c02-4e64-de0a-03d5fa76ee53"
      },
      "outputs": [
        {
          "output_type": "stream",
          "name": "stdout",
          "text": [
            "Epoch [1/20]:\n",
            "Train Loss: 1.3454, Train Accuracy: 58.08%\n",
            "Val Loss: 0.9010, Val Accuracy: 71.17%\n",
            "Epoch Time: 1339.75 seconds\n",
            "--------------------------------------------------\n",
            "Epoch [2/20]:\n",
            "Train Loss: 0.8544, Train Accuracy: 73.40%\n",
            "Val Loss: 0.7018, Val Accuracy: 79.20%\n",
            "Epoch Time: 106.29 seconds\n",
            "--------------------------------------------------\n",
            "Epoch [3/20]:\n",
            "Train Loss: 0.6317, Train Accuracy: 80.88%\n",
            "Val Loss: 0.4562, Val Accuracy: 85.92%\n",
            "Epoch Time: 109.70 seconds\n",
            "--------------------------------------------------\n",
            "Epoch [4/20]:\n",
            "Train Loss: 0.5427, Train Accuracy: 83.78%\n",
            "Val Loss: 0.5504, Val Accuracy: 83.35%\n",
            "Epoch Time: 111.34 seconds\n",
            "--------------------------------------------------\n",
            "Epoch [5/20]:\n",
            "Train Loss: 0.4748, Train Accuracy: 85.92%\n",
            "Val Loss: 0.6773, Val Accuracy: 81.23%\n",
            "Epoch Time: 111.58 seconds\n",
            "--------------------------------------------------\n",
            "Epoch [6/20]:\n",
            "Train Loss: 0.4280, Train Accuracy: 86.88%\n",
            "Val Loss: 0.3266, Val Accuracy: 89.98%\n",
            "Epoch Time: 111.30 seconds\n",
            "--------------------------------------------------\n",
            "Epoch [7/20]:\n",
            "Train Loss: 0.3704, Train Accuracy: 88.31%\n",
            "Val Loss: 0.3780, Val Accuracy: 87.99%\n",
            "Epoch Time: 111.04 seconds\n",
            "--------------------------------------------------\n",
            "Epoch [8/20]:\n",
            "Train Loss: 0.2385, Train Accuracy: 92.45%\n",
            "Val Loss: 0.1659, Val Accuracy: 94.90%\n",
            "Epoch Time: 111.31 seconds\n",
            "--------------------------------------------------\n",
            "Epoch [9/20]:\n",
            "Train Loss: 0.1796, Train Accuracy: 94.22%\n",
            "Val Loss: 0.1437, Val Accuracy: 95.69%\n",
            "Epoch Time: 111.34 seconds\n",
            "--------------------------------------------------\n",
            "Epoch [10/20]:\n",
            "Train Loss: 0.1630, Train Accuracy: 94.86%\n",
            "Val Loss: 0.1488, Val Accuracy: 95.24%\n",
            "Epoch Time: 111.27 seconds\n",
            "--------------------------------------------------\n",
            "Epoch [11/20]:\n",
            "Train Loss: 0.1546, Train Accuracy: 95.13%\n",
            "Val Loss: 0.1428, Val Accuracy: 95.36%\n",
            "Epoch Time: 111.50 seconds\n",
            "--------------------------------------------------\n",
            "Epoch [12/20]:\n",
            "Train Loss: 0.1322, Train Accuracy: 95.74%\n",
            "Val Loss: 0.1444, Val Accuracy: 95.19%\n",
            "Epoch Time: 111.52 seconds\n",
            "--------------------------------------------------\n",
            "Epoch [13/20]:\n",
            "Train Loss: 0.1315, Train Accuracy: 95.79%\n",
            "Val Loss: 0.1421, Val Accuracy: 96.11%\n",
            "Epoch Time: 111.36 seconds\n",
            "--------------------------------------------------\n",
            "Epoch [14/20]:\n",
            "Train Loss: 0.1195, Train Accuracy: 96.28%\n",
            "Val Loss: 0.1364, Val Accuracy: 95.65%\n",
            "Epoch Time: 111.25 seconds\n",
            "--------------------------------------------------\n",
            "Epoch [15/20]:\n",
            "Train Loss: 0.0991, Train Accuracy: 96.84%\n",
            "Val Loss: 0.1363, Val Accuracy: 95.86%\n",
            "Epoch Time: 111.49 seconds\n",
            "--------------------------------------------------\n",
            "Epoch [16/20]:\n",
            "Train Loss: 0.0894, Train Accuracy: 97.29%\n",
            "Val Loss: 0.1345, Val Accuracy: 95.82%\n",
            "Epoch Time: 111.61 seconds\n",
            "--------------------------------------------------\n",
            "Epoch [17/20]:\n",
            "Train Loss: 0.0924, Train Accuracy: 96.96%\n",
            "Val Loss: 0.1376, Val Accuracy: 95.73%\n",
            "Epoch Time: 110.92 seconds\n",
            "--------------------------------------------------\n",
            "Epoch [18/20]:\n",
            "Train Loss: 0.0900, Train Accuracy: 97.10%\n",
            "Val Loss: 0.1335, Val Accuracy: 96.02%\n",
            "Epoch Time: 111.07 seconds\n",
            "--------------------------------------------------\n",
            "Epoch [19/20]:\n",
            "Train Loss: 0.0846, Train Accuracy: 97.23%\n",
            "Val Loss: 0.1267, Val Accuracy: 96.23%\n",
            "Epoch Time: 110.46 seconds\n",
            "--------------------------------------------------\n",
            "Epoch [20/20]:\n",
            "Train Loss: 0.0825, Train Accuracy: 97.37%\n",
            "Val Loss: 0.1316, Val Accuracy: 95.98%\n",
            "Epoch Time: 110.92 seconds\n",
            "--------------------------------------------------\n"
          ]
        }
      ],
      "source": [
        "train_accuracy = Accuracy(task='multiclass', num_classes=num_classes).to(device)\n",
        "val_accuracy = Accuracy(task='multiclass', num_classes=num_classes).to(device)\n",
        "\n",
        "train_losses = []\n",
        "val_losses = []\n",
        "train_accuracies = []\n",
        "val_accuracies = []\n",
        "\n",
        "for epoch in range(num_epochs):\n",
        "    start_time = time.time()\n",
        "\n",
        "    model.train()\n",
        "    train_loss = 0.0\n",
        "\n",
        "    for images, labels in train_loader:\n",
        "        images, labels = images.to(device), labels.to(device)\n",
        "\n",
        "        optimizer.zero_grad()\n",
        "        outputs = model(images)\n",
        "        loss = criterion(outputs, labels)\n",
        "        loss.backward()\n",
        "        optimizer.step()\n",
        "\n",
        "        train_loss += loss.item()\n",
        "        train_accuracy(outputs, labels)\n",
        "\n",
        "    model.eval()\n",
        "    val_loss = 0.0\n",
        "\n",
        "    with torch.no_grad():\n",
        "        for images, labels in val_loader:\n",
        "            images, labels = images.to(device), labels.to(device)\n",
        "            outputs = model(images)\n",
        "            loss = criterion(outputs, labels)\n",
        "\n",
        "            val_loss += loss.item()\n",
        "            val_accuracy(outputs, labels)\n",
        "\n",
        "    scheduler.step()\n",
        "\n",
        "    avg_train_loss = train_loss / len(train_loader)\n",
        "    avg_val_loss = val_loss / len(val_loader)\n",
        "\n",
        "    train_acc = train_accuracy.compute().item()\n",
        "    val_acc = val_accuracy.compute().item()\n",
        "\n",
        "    train_losses.append(avg_train_loss)\n",
        "    val_losses.append(avg_val_loss)\n",
        "    train_accuracies.append(train_acc)\n",
        "    val_accuracies.append(val_acc)\n",
        "\n",
        "    train_accuracy.reset()\n",
        "    val_accuracy.reset()\n",
        "\n",
        "    end_time = time.time()\n",
        "    epoch_time = end_time - start_time\n",
        "\n",
        "    print(f'Epoch [{epoch+1}/{num_epochs}]:')\n",
        "    print(f'Train Loss: {avg_train_loss:.4f}, Train Accuracy: {train_acc*100:.2f}%')\n",
        "    print(f'Val Loss: {avg_val_loss:.4f}, Val Accuracy: {val_acc*100:.2f}%')\n",
        "    print(f'Epoch Time: {epoch_time:.2f} seconds')\n",
        "    print('-' * 50)"
      ]
    },
    {
      "cell_type": "code",
      "execution_count": null,
      "metadata": {
        "id": "ZrKFf78r70BI",
        "colab": {
          "base_uri": "https://localhost:8080/",
          "height": 507
        },
        "outputId": "5ae060b4-5c64-47dc-d72f-fa4ab51c6b93"
      },
      "outputs": [
        {
          "output_type": "display_data",
          "data": {
            "text/plain": [
              "<Figure size 1200x500 with 2 Axes>"
            ],
            "image/png": "[encoded data removed]"
          },
          "metadata": {}
        }
      ],
      "source": [
        "plt.figure(figsize=(12, 5))\n",
        "\n",
        "# Loss\n",
        "plt.subplot(1, 2, 1)\n",
        "plt.plot(train_losses, label='Train Loss')\n",
        "plt.plot(val_losses, label='Validation Loss')\n",
        "plt.title('Loss over Epochs')\n",
        "plt.xlabel('Epoch')\n",
        "plt.ylabel('Loss')\n",
        "plt.legend()\n",
        "\n",
        "# Accuracy\n",
        "plt.subplot(1, 2, 2)\n",
        "plt.plot(train_accuracies, label='Train Accuracy')\n",
        "plt.plot(val_accuracies, label='Validation Accuracy')\n",
        "plt.title('Accuracy over Epochs')\n",
        "plt.xlabel('Epoch')\n",
        "plt.ylabel('Accuracy')\n",
        "plt.legend()\n",
        "\n",
        "plt.tight_layout()\n",
        "plt.show()"
      ]
    },
    {
      "cell_type": "code",
      "execution_count": null,
      "metadata": {
        "id": "uJrABDeu71H7",
        "colab": {
          "base_uri": "https://localhost:8080/",
          "height": 885
        },
        "outputId": "a394eec8-f3ce-4cdf-c481-dafbfca0f987"
      },
      "outputs": [
        {
          "output_type": "display_data",
          "data": {
            "text/plain": [
              "<Figure size 1000x600 with 1 Axes>"
            ],
            "image/png": "[encoded data removed]"
          },
          "metadata": {}
        },
        {
          "output_type": "stream",
          "name": "stdout",
          "text": [
            "Class-wise Accuracies:\n",
            "Class 0: 95.45%\n",
            "Class 1: 94.34%\n",
            "Class 2: 99.39%\n",
            "Class 3: 97.26%\n",
            "Class 4: 95.54%\n",
            "Class 5: 98.68%\n",
            "Class 6: 98.19%\n",
            "Class 7: 93.71%\n",
            "Class 8: 96.36%\n",
            "Class 9: 95.43%\n",
            "Class 10: 97.87%\n",
            "Class 11: 97.33%\n",
            "Class 12: 95.39%\n",
            "Class 13: 98.73%\n",
            "Class 14: 91.33%\n"
          ]
        }
      ],
      "source": [
        "def compute_class_accuracy(model, dataloader, device):\n",
        "    model.eval()\n",
        "    class_correct = [0] * num_classes\n",
        "    class_total = [0] * num_classes\n",
        "\n",
        "    with torch.no_grad():\n",
        "        for images, labels in dataloader:\n",
        "            images, labels = images.to(device), labels.to(device)\n",
        "            outputs = model(images)\n",
        "            _, predicted = torch.max(outputs, 1)\n",
        "\n",
        "            c = (predicted == labels).squeeze()\n",
        "            for i in range(len(labels)):\n",
        "                label = labels[i]\n",
        "                class_correct[label] += c[i].item()\n",
        "                class_total[label] += 1\n",
        "\n",
        "    class_accuracies = [\n",
        "        100 * class_correct[i] / class_total[i]\n",
        "        for i in range(num_classes)\n",
        "    ]\n",
        "    return class_accuracies\n",
        "\n",
        "class_accuracies = compute_class_accuracy(model, val_loader, device)\n",
        "\n",
        "plt.figure(figsize=(10, 6))\n",
        "plt.bar(range(num_classes), class_accuracies)\n",
        "plt.title('Accuracy per Class')\n",
        "plt.xlabel('Class')\n",
        "plt.ylabel('Accuracy (%)')\n",
        "plt.xticks(range(num_classes), [f'Class {i}' for i in range(num_classes)])\n",
        "\n",
        "for i, acc in enumerate(class_accuracies):\n",
        "    plt.text(i, acc, f'{acc:.1f}%',\n",
        "             ha='center', va='bottom')\n",
        "\n",
        "plt.tight_layout()\n",
        "plt.show()\n",
        "\n",
        "print(\"Class-wise Accuracies:\")\n",
        "for i, acc in enumerate(class_accuracies):\n",
        "    print(f\"Class {i}: {acc:.2f}%\")"
      ]
    },
    {
      "cell_type": "code",
      "execution_count": null,
      "metadata": {
        "id": "PaICHUai73uJ",
        "colab": {
          "base_uri": "https://localhost:8080/"
        },
        "outputId": "932cfe0f-c974-4ca4-bf0b-7ac233f9b4c3"
      },
      "outputs": [
        {
          "output_type": "stream",
          "name": "stderr",
          "text": [
            "/usr/local/lib/python3.11/dist-packages/torchvision/models/_utils.py:208: UserWarning: The parameter 'pretrained' is deprecated since 0.13 and may be removed in the future, please use 'weights' instead.\n",
            "  warnings.warn(\n",
            "/usr/local/lib/python3.11/dist-packages/torchvision/models/_utils.py:223: UserWarning: Arguments other than a weight enum or `None` for 'weights' are deprecated since 0.13 and may be removed in the future. The current behavior is equivalent to passing `weights=MobileNet_V3_Small_Weights.IMAGENET1K_V1`. You can also use `weights=MobileNet_V3_Small_Weights.DEFAULT` to get the most up-to-date weights.\n",
            "  warnings.warn(msg)\n",
            "Downloading: \"https://download.pytorch.org/models/mobilenet_v3_small-047dcff4.pth\" to /root/.cache/torch/hub/checkpoints/mobilenet_v3_small-047dcff4.pth\n",
            "100%|██████████| 9.83M/9.83M [00:00<00:00, 77.6MB/s]\n",
            "/usr/local/lib/python3.11/dist-packages/torchvision/models/_utils.py:223: UserWarning: Arguments other than a weight enum or `None` for 'weights' are deprecated since 0.13 and may be removed in the future. The current behavior is equivalent to passing `weights=MobileNet_V3_Large_Weights.IMAGENET1K_V1`. You can also use `weights=MobileNet_V3_Large_Weights.DEFAULT` to get the most up-to-date weights.\n",
            "  warnings.warn(msg)\n",
            "Downloading: \"https://download.pytorch.org/models/mobilenet_v3_large-8738ca79.pth\" to /root/.cache/torch/hub/checkpoints/mobilenet_v3_large-8738ca79.pth\n",
            "100%|██████████| 21.1M/21.1M [00:00<00:00, 123MB/s] \n"
          ]
        }
      ],
      "source": [
        "from torchvision.models import mobilenet_v3_small\n",
        "from torchvision.models import mobilenet_v3_large\n",
        "\n",
        "model = mobilenet_v3_small(pretrained=True)\n",
        "model = mobilenet_v3_large(pretrained=True)"
      ]
    },
    {
      "cell_type": "code",
      "execution_count": null,
      "metadata": {
        "id": "Lr8J3_K_Aqdx",
        "colab": {
          "base_uri": "https://localhost:8080/"
        },
        "outputId": "cf7c0750-86c0-488c-afbe-4f8d731f53aa"
      },
      "outputs": [
        {
          "output_type": "stream",
          "name": "stdout",
          "text": [
            "Epoch 1/20\n",
            "----------\n"
          ]
        },
        {
          "output_type": "stream",
          "name": "stderr",
          "text": [
            "/usr/local/lib/python3.11/dist-packages/torch/utils/data/dataloader.py:624: UserWarning: This DataLoader will create 4 worker processes in total. Our suggested max number of worker in current system is 2, which is smaller than what this DataLoader is going to create. Please be aware that excessive worker creation might get DataLoader running slow or even freeze, lower the worker number to avoid potential slowness/freeze if necessary.\n",
            "  warnings.warn(\n"
          ]
        },
        {
          "output_type": "stream",
          "name": "stdout",
          "text": [
            "Train Loss: 0.4349 Acc: 0.8639\n",
            "Val Loss: 0.3393 Acc: 0.8944\n",
            "Train Time: 54.01s, Val Time: 11.88s\n",
            "Epoch Total Time: 65.88s\n",
            "Epoch 2/20\n",
            "----------\n",
            "Train Loss: 0.2055 Acc: 0.9345\n",
            "Val Loss: 0.2408 Acc: 0.9263\n",
            "Train Time: 59.80s, Val Time: 13.26s\n",
            "Epoch Total Time: 73.07s\n",
            "Epoch 3/20\n",
            "----------\n",
            "Train Loss: 0.1638 Acc: 0.9486\n",
            "Val Loss: 0.1971 Acc: 0.9354\n",
            "Train Time: 52.67s, Val Time: 12.20s\n",
            "Epoch Total Time: 64.87s\n",
            "Epoch 4/20\n",
            "----------\n",
            "Train Loss: 0.1199 Acc: 0.9604\n",
            "Val Loss: 0.2245 Acc: 0.9312\n",
            "Train Time: 49.95s, Val Time: 11.92s\n",
            "Epoch Total Time: 61.87s\n",
            "Epoch 5/20\n",
            "----------\n",
            "Train Loss: 0.1139 Acc: 0.9625\n",
            "Val Loss: 0.2696 Acc: 0.9234\n",
            "Train Time: 50.27s, Val Time: 11.40s\n",
            "Epoch Total Time: 61.66s\n",
            "Epoch 6/20\n",
            "----------\n",
            "Train Loss: 0.1212 Acc: 0.9614\n",
            "Val Loss: 0.1686 Acc: 0.9536\n",
            "Train Time: 49.94s, Val Time: 11.81s\n",
            "Epoch Total Time: 61.76s\n",
            "Epoch 7/20\n",
            "----------\n",
            "Train Loss: 0.1174 Acc: 0.9633\n",
            "Val Loss: 0.2283 Acc: 0.9337\n",
            "Train Time: 51.15s, Val Time: 10.60s\n",
            "Epoch Total Time: 61.75s\n",
            "Epoch 8/20\n",
            "----------\n",
            "Train Loss: 0.0463 Acc: 0.9839\n",
            "Val Loss: 0.0914 Acc: 0.9727\n",
            "Train Time: 50.17s, Val Time: 11.88s\n",
            "Epoch Total Time: 62.05s\n",
            "Epoch 9/20\n",
            "----------\n",
            "Train Loss: 0.0279 Acc: 0.9923\n",
            "Val Loss: 0.0935 Acc: 0.9722\n",
            "Train Time: 49.17s, Val Time: 11.04s\n",
            "Epoch Total Time: 60.21s\n",
            "Epoch 10/20\n",
            "----------\n",
            "Train Loss: 0.0226 Acc: 0.9934\n",
            "Val Loss: 0.0753 Acc: 0.9751\n",
            "Train Time: 50.67s, Val Time: 12.12s\n",
            "Epoch Total Time: 62.80s\n",
            "Epoch 11/20\n",
            "----------\n",
            "Train Loss: 0.0215 Acc: 0.9933\n",
            "Val Loss: 0.0854 Acc: 0.9751\n",
            "Train Time: 49.59s, Val Time: 11.96s\n",
            "Epoch Total Time: 61.56s\n",
            "Epoch 12/20\n",
            "----------\n",
            "Train Loss: 0.0185 Acc: 0.9949\n",
            "Val Loss: 0.0764 Acc: 0.9751\n",
            "Train Time: 51.22s, Val Time: 11.84s\n",
            "Epoch Total Time: 63.06s\n",
            "Epoch 13/20\n",
            "----------\n",
            "Train Loss: 0.0143 Acc: 0.9953\n",
            "Val Loss: 0.0794 Acc: 0.9772\n",
            "Train Time: 48.72s, Val Time: 11.75s\n",
            "Epoch Total Time: 60.47s\n",
            "Epoch 14/20\n",
            "----------\n",
            "Train Loss: 0.0147 Acc: 0.9954\n",
            "Val Loss: 0.0703 Acc: 0.9789\n",
            "Train Time: 50.60s, Val Time: 12.16s\n",
            "Epoch Total Time: 62.76s\n",
            "Epoch 15/20\n",
            "----------\n",
            "Train Loss: 0.0133 Acc: 0.9969\n",
            "Val Loss: 0.0707 Acc: 0.9768\n",
            "Train Time: 49.76s, Val Time: 11.83s\n",
            "Epoch Total Time: 61.60s\n",
            "Epoch 16/20\n",
            "----------\n",
            "Train Loss: 0.0101 Acc: 0.9974\n",
            "Val Loss: 0.0685 Acc: 0.9797\n",
            "Train Time: 50.44s, Val Time: 11.79s\n",
            "Epoch Total Time: 62.24s\n",
            "Epoch 17/20\n",
            "----------\n",
            "Train Loss: 0.0100 Acc: 0.9973\n",
            "Val Loss: 0.0759 Acc: 0.9797\n",
            "Train Time: 49.17s, Val Time: 11.77s\n",
            "Epoch Total Time: 60.94s\n",
            "Epoch 18/20\n",
            "----------\n",
            "Train Loss: 0.0100 Acc: 0.9973\n",
            "Val Loss: 0.0706 Acc: 0.9793\n",
            "Train Time: 49.05s, Val Time: 10.57s\n",
            "Epoch Total Time: 59.63s\n",
            "Epoch 19/20\n",
            "----------\n",
            "Train Loss: 0.0103 Acc: 0.9970\n",
            "Val Loss: 0.0713 Acc: 0.9801\n",
            "Train Time: 50.37s, Val Time: 11.97s\n",
            "Epoch Total Time: 62.35s\n",
            "Epoch 20/20\n",
            "----------\n",
            "Train Loss: 0.0102 Acc: 0.9971\n",
            "Val Loss: 0.0754 Acc: 0.9793\n",
            "Train Time: 49.26s, Val Time: 11.47s\n",
            "Epoch Total Time: 60.74s\n",
            "Total Training Time: 1251.66s\n",
            "Average Epoch Time: 62.58s\n",
            "GPU Memory Usage:\n",
            "Allocated: 49.59 MB\n",
            "Cached: 3346.00 MB\n",
            "Model Parameters:\n",
            "Total Parameters: 1,533,231\n",
            "Trainable Parameters: 1,533,231\n"
          ]
        }
      ],
      "source": [
        "import torch\n",
        "import torch.nn as nn\n",
        "import torch.optim as optim\n",
        "from torchvision import transforms, datasets, models\n",
        "from torch.utils.data import DataLoader\n",
        "import time\n",
        "\n",
        "\n",
        "device = torch.device('cuda' if torch.cuda.is_available() else 'cpu')\n",
        "\n",
        "\n",
        "model = models.mobilenet_v3_small(pretrained=True)\n",
        "num_classes = len(full_dataset.classes)\n",
        "model.classifier[-1] = nn.Linear(model.classifier[-1].in_features, num_classes)\n",
        "model = model.to(device)\n",
        "\n",
        "\n",
        "criterion = nn.CrossEntropyLoss()\n",
        "optimizer = optim.Adam(model.parameters(), lr=0.001, weight_decay=1e-4)\n",
        "scheduler = optim.lr_scheduler.StepLR(optimizer, step_size=7, gamma=0.1)\n",
        "\n",
        "\n",
        "def train_model(model, criterion, optimizer, scheduler, num_epochs=20):\n",
        "\n",
        "    total_start_time = time.time()\n",
        "    best_val_accuracy = 0.0\n",
        "\n",
        "    for epoch in range(num_epochs):\n",
        "\n",
        "        epoch_start_time = time.time()\n",
        "\n",
        "        print(f'Epoch {epoch+1}/{num_epochs}')\n",
        "        print('-' * 10)\n",
        "\n",
        "\n",
        "        model.train()\n",
        "        train_loss = 0.0\n",
        "        train_corrects = 0\n",
        "        train_start_time = time.time()\n",
        "\n",
        "        for inputs, labels in train_loader:\n",
        "            inputs = inputs.to(device)\n",
        "            labels = labels.to(device)\n",
        "\n",
        "\n",
        "            optimizer.zero_grad()\n",
        "\n",
        "\n",
        "            outputs = model(inputs)\n",
        "            loss = criterion(outputs, labels)\n",
        "\n",
        "\n",
        "            loss.backward()\n",
        "            optimizer.step()\n",
        "\n",
        "\n",
        "            train_loss += loss.item() * inputs.size(0)\n",
        "            _, preds = torch.max(outputs, 1)\n",
        "            train_corrects += torch.sum(preds == labels.data)\n",
        "\n",
        "        train_time = time.time() - train_start_time\n",
        "\n",
        "\n",
        "        model.eval()\n",
        "        val_loss = 0.0\n",
        "        val_corrects = 0\n",
        "        val_start_time = time.time()\n",
        "\n",
        "        with torch.no_grad():\n",
        "            for inputs, labels in val_loader:\n",
        "                inputs = inputs.to(device)\n",
        "                labels = labels.to(device)\n",
        "\n",
        "                outputs = model(inputs)\n",
        "                loss = criterion(outputs, labels)\n",
        "\n",
        "                val_loss += loss.item() * inputs.size(0)\n",
        "                _, preds = torch.max(outputs, 1)\n",
        "                val_corrects += torch.sum(preds == labels.data)\n",
        "\n",
        "        val_time = time.time() - val_start_time\n",
        "\n",
        "\n",
        "        epoch_train_loss = train_loss / len(train_dataset)\n",
        "        epoch_train_acc = train_corrects.double() / len(train_dataset)\n",
        "        epoch_val_loss = val_loss / len(val_dataset)\n",
        "        epoch_val_acc = val_corrects.double() / len(val_dataset)\n",
        "\n",
        "\n",
        "        scheduler.step()\n",
        "\n",
        "\n",
        "        epoch_time = time.time() - epoch_start_time\n",
        "\n",
        "\n",
        "        print(f'Train Loss: {epoch_train_loss:.4f} Acc: {epoch_train_acc:.4f}')\n",
        "        print(f'Val Loss: {epoch_val_loss:.4f} Acc: {epoch_val_acc:.4f}')\n",
        "        print(f'Train Time: {train_time:.2f}s, Val Time: {val_time:.2f}s')\n",
        "        print(f'Epoch Total Time: {epoch_time:.2f}s')\n",
        "\n",
        "\n",
        "        if epoch_val_acc > best_val_accuracy:\n",
        "            best_val_accuracy = epoch_val_acc\n",
        "            torch.save(model.state_dict(), 'best_mobilenetv3_model.pth')\n",
        "\n",
        "\n",
        "    total_training_time = time.time() - total_start_time\n",
        "    print(f'Total Training Time: {total_training_time:.2f}s')\n",
        "    print(f'Average Epoch Time: {total_training_time/num_epochs:.2f}s')\n",
        "\n",
        "    return model\n",
        "\n",
        "\n",
        "def analyze_performance():\n",
        "\n",
        "    if torch.cuda.is_available():\n",
        "        print(\"GPU Memory Usage:\")\n",
        "        print(f\"Allocated: {torch.cuda.memory_allocated()/1024**2:.2f} MB\")\n",
        "        print(f\"Cached: {torch.cuda.memory_reserved()/1024**2:.2f} MB\")\n",
        "\n",
        "\n",
        "    total_params = sum(p.numel() for p in model.parameters())\n",
        "    trainable_params = sum(p.numel() for p in model.parameters() if p.requires_grad)\n",
        "\n",
        "    print(\"Model Parameters:\")\n",
        "    print(f\"Total Parameters: {total_params:,}\")\n",
        "    print(f\"Trainable Parameters: {trainable_params:,}\")\n",
        "\n",
        "\n",
        "trained_model = train_model(model, criterion, optimizer, scheduler, num_epochs=20)\n",
        "\n",
        "\n",
        "analyze_performance()"
      ]
    },
    {
      "cell_type": "code",
      "execution_count": null,
      "metadata": {
        "id": "PNG4SK4zAy01"
      },
      "outputs": [],
      "source": [
        "def evaluate_accuracy(model, dataloader, device):\n",
        "    model.eval()\n",
        "    correct = 0\n",
        "    total = 0\n",
        "\n",
        "    with torch.no_grad():\n",
        "        for inputs, labels in dataloader:\n",
        "            inputs = inputs.to(device)\n",
        "            labels = labels.to(device)\n",
        "\n",
        "            outputs = model(inputs)\n",
        "            _, predicted = torch.max(outputs.data, 1)\n",
        "\n",
        "            total += labels.size(0)\n",
        "            correct += (predicted == labels).sum().item()\n",
        "\n",
        "    accuracy = 100 * correct / total\n",
        "    print(f\"Final Accuracy on test set: {accuracy:.2f}%\")\n",
        "    return accuracy\n"
      ]
    },
    {
      "cell_type": "code",
      "source": [
        "final_accuracy = evaluate_accuracy(model, val_loader, device)\n"
      ],
      "metadata": {
        "colab": {
          "base_uri": "https://localhost:8080/"
        },
        "id": "JuFZ63t9WHpZ",
        "outputId": "66c76e8e-1415-491d-99af-b046fb076838"
      },
      "execution_count": null,
      "outputs": [
        {
          "output_type": "stream",
          "name": "stderr",
          "text": [
            "/usr/local/lib/python3.11/dist-packages/torch/utils/data/dataloader.py:624: UserWarning: This DataLoader will create 4 worker processes in total. Our suggested max number of worker in current system is 2, which is smaller than what this DataLoader is going to create. Please be aware that excessive worker creation might get DataLoader running slow or even freeze, lower the worker number to avoid potential slowness/freeze if necessary.\n",
            "  warnings.warn(\n"
          ]
        },
        {
          "output_type": "stream",
          "name": "stdout",
          "text": [
            "Final Accuracy on test set: 97.93%\n"
          ]
        }
      ]
    },
    {
      "cell_type": "code",
      "source": [
        "# Choose the file name based on your model\n",
        "model_name = \"Landscape_Classifier.pth\"  # or \"resnet50_best.pth\"\n",
        "\n",
        "# Save the model (state_dict saves only the weights)\n",
        "torch.save(model.state_dict(), model_name)\n",
        "print(f\"Model saved as {model_name}\")\n"
      ],
      "metadata": {
        "colab": {
          "base_uri": "https://localhost:8080/"
        },
        "id": "15dqOF_FWez6",
        "outputId": "4df1c4a4-f03f-4f8c-fd12-7feacc1fb448"
      },
      "execution_count": null,
      "outputs": [
        {
          "output_type": "stream",
          "name": "stdout",
          "text": [
            "Model saved as Landscape_Classifier.pth\n"
          ]
        }
      ]
    },
    {
      "cell_type": "code",
      "source": [
        "from google.colab import files\n",
        "\n",
        "# Download the model to your local system\n",
        "files.download(model_name)\n"
      ],
      "metadata": {
        "colab": {
          "base_uri": "https://localhost:8080/",
          "height": 17
        },
        "id": "X1QH7aUaWnEz",
        "outputId": "7de2fc98-0e7c-4a2a-db8e-1230043f1112"
      },
      "execution_count": null,
      "outputs": [
        {
          "output_type": "display_data",
          "data": {
            "text/plain": [
              "<IPython.core.display.Javascript object>"
            ],
            "application/javascript": [
              "\n",
              "    async function download(id, filename, size) {\n",
              "      if (!google.colab.kernel.accessAllowed) {\n",
              "        return;\n",
              "      }\n",
              "      const div = document.createElement('div');\n",
              "      const label = document.createElement('label');\n",
              "      label.textContent = `Downloading \"${filename}\": `;\n",
              "      div.appendChild(label);\n",
              "      const progress = document.createElement('progress');\n",
              "      progress.max = size;\n",
              "      div.appendChild(progress);\n",
              "      document.body.appendChild(div);\n",
              "\n",
              "      const buffers = [];\n",
              "      let downloaded = 0;\n",
              "\n",
              "      const channel = await google.colab.kernel.comms.open(id);\n",
              "      // Send a message to notify the kernel that we're ready.\n",
              "      channel.send({})\n",
              "\n",
              "      for await (const message of channel.messages) {\n",
              "        // Send a message to notify the kernel that we're ready.\n",
              "        channel.send({})\n",
              "        if (message.buffers) {\n",
              "          for (const buffer of message.buffers) {\n",
              "            buffers.push(buffer);\n",
              "            downloaded += buffer.byteLength;\n",
              "            progress.value = downloaded;\n",
              "          }\n",
              "        }\n",
              "      }\n",
              "      const blob = new Blob(buffers, {type: 'application/binary'});\n",
              "      const a = document.createElement('a');\n",
              "      a.href = window.URL.createObjectURL(blob);\n",
              "      a.download = filename;\n",
              "      div.appendChild(a);\n",
              "      a.click();\n",
              "      div.remove();\n",
              "    }\n",
              "  "
            ]
          },
          "metadata": {}
        },
        {
          "output_type": "display_data",
          "data": {
            "text/plain": [
              "<IPython.core.display.Javascript object>"
            ],
            "application/javascript": [
              "download(\"download_904b4953-df6b-4fb6-b0dc-4f24f336d3a3\", \"Landscape_Classifier.pth\", 6269602)"
            ]
          },
          "metadata": {}
        }
      ]
    }
  ],
  "metadata": {
    "accelerator": "GPU",
    "colab": {
      "gpuType": "T4",
      "provenance": [],
      "mount_file_id": "1MGqpi4uDIefddoEGfAmakgL1wIt386gt",
      "authorship_tag": "ABX9TyNOv/PKJmZAhESlBHt5JGZu",
      "include_colab_link": true
    },
    "kernelspec": {
      "display_name": "Python 3",
      "name": "python3"
    },
    "language_info": {
      "name": "python"
    }
  },
  "nbformat": 4,
  "nbformat_minor": 0
}